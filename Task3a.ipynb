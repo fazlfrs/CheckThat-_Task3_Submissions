{
 "cells": [
  {
   "cell_type": "code",
   "execution_count": 25,
   "metadata": {},
   "outputs": [
    {
     "data": {
      "text/html": [
       "<div>\n",
       "<style scoped>\n",
       "    .dataframe tbody tr th:only-of-type {\n",
       "        vertical-align: middle;\n",
       "    }\n",
       "\n",
       "    .dataframe tbody tr th {\n",
       "        vertical-align: top;\n",
       "    }\n",
       "\n",
       "    .dataframe thead th {\n",
       "        text-align: right;\n",
       "    }\n",
       "</style>\n",
       "<table border=\"1\" class=\"dataframe\">\n",
       "  <thead>\n",
       "    <tr style=\"text-align: right;\">\n",
       "      <th></th>\n",
       "      <th>public_id</th>\n",
       "      <th>predicted_rating</th>\n",
       "    </tr>\n",
       "  </thead>\n",
       "  <tbody>\n",
       "    <tr>\n",
       "      <th>0</th>\n",
       "      <td>81a67c96</td>\n",
       "      <td>partially false</td>\n",
       "    </tr>\n",
       "    <tr>\n",
       "      <th>1</th>\n",
       "      <td>6e5ec6fb</td>\n",
       "      <td>false</td>\n",
       "    </tr>\n",
       "    <tr>\n",
       "      <th>2</th>\n",
       "      <td>d9cd4895</td>\n",
       "      <td>false</td>\n",
       "    </tr>\n",
       "    <tr>\n",
       "      <th>3</th>\n",
       "      <td>4a1a9b9f</td>\n",
       "      <td>false</td>\n",
       "    </tr>\n",
       "    <tr>\n",
       "      <th>4</th>\n",
       "      <td>6d16fa40</td>\n",
       "      <td>false</td>\n",
       "    </tr>\n",
       "  </tbody>\n",
       "</table>\n",
       "</div>"
      ],
      "text/plain": [
       "  public_id predicted_rating\n",
       "0  81a67c96  partially false\n",
       "1  6e5ec6fb            false\n",
       "2  d9cd4895            false\n",
       "3  4a1a9b9f            false\n",
       "4  6d16fa40            false"
      ]
     },
     "execution_count": 25,
     "metadata": {},
     "output_type": "execute_result"
    }
   ],
   "source": [
    "ss=pd.read_csv('task3a.csv')\n",
    "ss.head()"
   ]
  },
  {
   "cell_type": "code",
   "execution_count": 26,
   "metadata": {},
   "outputs": [],
   "source": [
    "from sklearn.metrics import classification_report"
   ]
  },
  {
   "cell_type": "code",
   "execution_count": 27,
   "metadata": {},
   "outputs": [
    {
     "data": {
      "text/html": [
       "<div>\n",
       "<style scoped>\n",
       "    .dataframe tbody tr th:only-of-type {\n",
       "        vertical-align: middle;\n",
       "    }\n",
       "\n",
       "    .dataframe tbody tr th {\n",
       "        vertical-align: top;\n",
       "    }\n",
       "\n",
       "    .dataframe thead th {\n",
       "        text-align: right;\n",
       "    }\n",
       "</style>\n",
       "<table border=\"1\" class=\"dataframe\">\n",
       "  <thead>\n",
       "    <tr style=\"text-align: right;\">\n",
       "      <th></th>\n",
       "      <th>public_id</th>\n",
       "      <th>text</th>\n",
       "      <th>title</th>\n",
       "      <th>our rating</th>\n",
       "    </tr>\n",
       "  </thead>\n",
       "  <tbody>\n",
       "    <tr>\n",
       "      <th>0</th>\n",
       "      <td>81a67c96</td>\n",
       "      <td>Former state House Majority Leader Adam Hasner...</td>\n",
       "      <td>- The Washington Post</td>\n",
       "      <td>partially false</td>\n",
       "    </tr>\n",
       "    <tr>\n",
       "      <th>1</th>\n",
       "      <td>6e5ec6fb</td>\n",
       "      <td>Editor’s note: Subsequent to this article, VTD...</td>\n",
       "      <td>Rubio Comments on Iran Nuclear Deal</td>\n",
       "      <td>false</td>\n",
       "    </tr>\n",
       "    <tr>\n",
       "      <th>2</th>\n",
       "      <td>d9cd4895</td>\n",
       "      <td>The hypocritical Lib Dems want to ignore the r...</td>\n",
       "      <td>Climate Alarmists Caught Manipulating Temperat...</td>\n",
       "      <td>false</td>\n",
       "    </tr>\n",
       "    <tr>\n",
       "      <th>3</th>\n",
       "      <td>4a1a9b9f</td>\n",
       "      <td>Urgent action to boost the number of children ...</td>\n",
       "      <td>Who are the arsonists setting rural fires in W...</td>\n",
       "      <td>false</td>\n",
       "    </tr>\n",
       "    <tr>\n",
       "      <th>4</th>\n",
       "      <td>6d16fa40</td>\n",
       "      <td>By Ken Allen AFSCME Council 75 represents the ...</td>\n",
       "      <td>Diabetes prescriptions now cost NHS £1bn, figu...</td>\n",
       "      <td>false</td>\n",
       "    </tr>\n",
       "  </tbody>\n",
       "</table>\n",
       "</div>"
      ],
      "text/plain": [
       "  public_id                                               text  \\\n",
       "0  81a67c96  Former state House Majority Leader Adam Hasner...   \n",
       "1  6e5ec6fb  Editor’s note: Subsequent to this article, VTD...   \n",
       "2  d9cd4895  The hypocritical Lib Dems want to ignore the r...   \n",
       "3  4a1a9b9f  Urgent action to boost the number of children ...   \n",
       "4  6d16fa40  By Ken Allen AFSCME Council 75 represents the ...   \n",
       "\n",
       "                                               title       our rating  \n",
       "0                              - The Washington Post  partially false  \n",
       "1                Rubio Comments on Iran Nuclear Deal            false  \n",
       "2  Climate Alarmists Caught Manipulating Temperat...            false  \n",
       "3  Who are the arsonists setting rural fires in W...            false  \n",
       "4  Diabetes prescriptions now cost NHS £1bn, figu...            false  "
      ]
     },
     "execution_count": 27,
     "metadata": {},
     "output_type": "execute_result"
    }
   ],
   "source": [
    "true=pd.read_csv('Task3a_testing.csv')\n",
    "true.head()"
   ]
  },
  {
   "cell_type": "code",
   "execution_count": 28,
   "metadata": {},
   "outputs": [
    {
     "name": "stdout",
     "output_type": "stream",
     "text": [
      "                 precision    recall  f1-score   support\n",
      "\n",
      "          false       0.53      0.80      0.64       113\n",
      "          other       0.49      0.56      0.52        41\n",
      "partially false       0.66      0.45      0.54       141\n",
      "           true       0.38      0.28      0.32        69\n",
      "\n",
      "       accuracy                           0.54       364\n",
      "      macro avg       0.51      0.52      0.50       364\n",
      "   weighted avg       0.55      0.54      0.53       364\n",
      "\n"
     ]
    }
   ],
   "source": [
    "print(classification_report(true['our rating'],pred))"
   ]
  },
  {
   "cell_type": "code",
   "execution_count": null,
   "metadata": {},
   "outputs": [],
   "source": []
  },
  {
   "cell_type": "code",
   "execution_count": 29,
   "metadata": {},
   "outputs": [],
   "source": [
    "from pathlib import Path"
   ]
  },
  {
   "cell_type": "code",
   "execution_count": 30,
   "metadata": {},
   "outputs": [
    {
     "name": "stdout",
     "output_type": "stream",
     "text": [
      "Task3a_testing.csv\n"
     ]
    },
    {
     "data": {
      "text/html": [
       "<div>\n",
       "<style scoped>\n",
       "    .dataframe tbody tr th:only-of-type {\n",
       "        vertical-align: middle;\n",
       "    }\n",
       "\n",
       "    .dataframe tbody tr th {\n",
       "        vertical-align: top;\n",
       "    }\n",
       "\n",
       "    .dataframe thead th {\n",
       "        text-align: right;\n",
       "    }\n",
       "</style>\n",
       "<table border=\"1\" class=\"dataframe\">\n",
       "  <thead>\n",
       "    <tr style=\"text-align: right;\">\n",
       "      <th></th>\n",
       "      <th>public_id</th>\n",
       "      <th>text</th>\n",
       "      <th>title</th>\n",
       "      <th>our rating</th>\n",
       "    </tr>\n",
       "  </thead>\n",
       "  <tbody>\n",
       "    <tr>\n",
       "      <th>0</th>\n",
       "      <td>81a67c96</td>\n",
       "      <td>Former state House Majority Leader Adam Hasner...</td>\n",
       "      <td>- The Washington Post</td>\n",
       "      <td>partially false</td>\n",
       "    </tr>\n",
       "    <tr>\n",
       "      <th>1</th>\n",
       "      <td>6e5ec6fb</td>\n",
       "      <td>Editor’s note: Subsequent to this article, VTD...</td>\n",
       "      <td>Rubio Comments on Iran Nuclear Deal</td>\n",
       "      <td>false</td>\n",
       "    </tr>\n",
       "    <tr>\n",
       "      <th>2</th>\n",
       "      <td>d9cd4895</td>\n",
       "      <td>The hypocritical Lib Dems want to ignore the r...</td>\n",
       "      <td>Climate Alarmists Caught Manipulating Temperat...</td>\n",
       "      <td>false</td>\n",
       "    </tr>\n",
       "    <tr>\n",
       "      <th>3</th>\n",
       "      <td>4a1a9b9f</td>\n",
       "      <td>Urgent action to boost the number of children ...</td>\n",
       "      <td>Who are the arsonists setting rural fires in W...</td>\n",
       "      <td>false</td>\n",
       "    </tr>\n",
       "    <tr>\n",
       "      <th>4</th>\n",
       "      <td>6d16fa40</td>\n",
       "      <td>By Ken Allen AFSCME Council 75 represents the ...</td>\n",
       "      <td>Diabetes prescriptions now cost NHS £1bn, figu...</td>\n",
       "      <td>false</td>\n",
       "    </tr>\n",
       "  </tbody>\n",
       "</table>\n",
       "</div>"
      ],
      "text/plain": [
       "  public_id                                               text  \\\n",
       "0  81a67c96  Former state House Majority Leader Adam Hasner...   \n",
       "1  6e5ec6fb  Editor’s note: Subsequent to this article, VTD...   \n",
       "2  d9cd4895  The hypocritical Lib Dems want to ignore the r...   \n",
       "3  4a1a9b9f  Urgent action to boost the number of children ...   \n",
       "4  6d16fa40  By Ken Allen AFSCME Council 75 represents the ...   \n",
       "\n",
       "                                               title       our rating  \n",
       "0                              - The Washington Post  partially false  \n",
       "1                Rubio Comments on Iran Nuclear Deal            false  \n",
       "2  Climate Alarmists Caught Manipulating Temperat...            false  \n",
       "3  Who are the arsonists setting rural fires in W...            false  \n",
       "4  Diabetes prescriptions now cost NHS £1bn, figu...            false  "
      ]
     },
     "execution_count": 30,
     "metadata": {},
     "output_type": "execute_result"
    }
   ],
   "source": [
    "import re, os\n",
    "import pandas as pd\n",
    "import numpy as np\n",
    "from sklearn.metrics import classification_report\n",
    "from tkinter import Tk, filedialog\n",
    "from IPython.display import Markdown\n",
    "\n",
    "duplicates = [\"1a46b040\", \"c1e124d5\", \"8209ca7b\", \"e2abfbe6\", \"39f5c37f\",\n",
    "              \"47423bb6\", \"097c142a\", \"08bc59f4\", \"af3393ce\", \"a39d07df\"]\n",
    "\n",
    "\"\"\"## Gold Standard\"\"\"\n",
    "\n",
    "root = Tk()\n",
    "root.withdraw() #dont show base window\n",
    "path_to_test_data = Path('Task3a_testing.csv')#filedialog.askopenfile() #file selection dialog\n",
    "print(path_to_test_data.name) #check, that the correct file has been selected\n",
    "\n",
    "#depending on whether task a or task b testing data has been loaded\n",
    "column_name_test = \"our rating\" if \"3a\" in path_to_test_data.name else \"category\"\n",
    "column_name_system = \"predicted_rating\" if \"3a\" in path_to_test_data.name else \"predicted_domain\"\n",
    "\n",
    "#read gold standard\n",
    "#If you don't wan't to use a dialog, specify the path directly\n",
    "test_data = pd.read_csv(path_to_test_data.name, encoding=\"UTF-8\")\n",
    "test_data.head() #quick check, if the data has been correctly read.\n"
   ]
  },
  {
   "cell_type": "code",
   "execution_count": 31,
   "metadata": {},
   "outputs": [
    {
     "name": "stdout",
     "output_type": "stream",
     "text": [
      "Task3a.csv\n",
      "364\n"
     ]
    },
    {
     "data": {
      "text/html": [
       "<div>\n",
       "<style scoped>\n",
       "    .dataframe tbody tr th:only-of-type {\n",
       "        vertical-align: middle;\n",
       "    }\n",
       "\n",
       "    .dataframe tbody tr th {\n",
       "        vertical-align: top;\n",
       "    }\n",
       "\n",
       "    .dataframe thead th {\n",
       "        text-align: right;\n",
       "    }\n",
       "</style>\n",
       "<table border=\"1\" class=\"dataframe\">\n",
       "  <thead>\n",
       "    <tr style=\"text-align: right;\">\n",
       "      <th></th>\n",
       "      <th>public_id</th>\n",
       "      <th>predicted_rating</th>\n",
       "    </tr>\n",
       "  </thead>\n",
       "  <tbody>\n",
       "    <tr>\n",
       "      <th>0</th>\n",
       "      <td>81a67c96</td>\n",
       "      <td>partially false</td>\n",
       "    </tr>\n",
       "    <tr>\n",
       "      <th>1</th>\n",
       "      <td>6e5ec6fb</td>\n",
       "      <td>false</td>\n",
       "    </tr>\n",
       "    <tr>\n",
       "      <th>2</th>\n",
       "      <td>d9cd4895</td>\n",
       "      <td>false</td>\n",
       "    </tr>\n",
       "    <tr>\n",
       "      <th>3</th>\n",
       "      <td>4a1a9b9f</td>\n",
       "      <td>false</td>\n",
       "    </tr>\n",
       "    <tr>\n",
       "      <th>4</th>\n",
       "      <td>6d16fa40</td>\n",
       "      <td>false</td>\n",
       "    </tr>\n",
       "  </tbody>\n",
       "</table>\n",
       "</div>"
      ],
      "text/plain": [
       "  public_id predicted_rating\n",
       "0  81a67c96  partially false\n",
       "1  6e5ec6fb            false\n",
       "2  d9cd4895            false\n",
       "3  4a1a9b9f            false\n",
       "4  6d16fa40            false"
      ]
     },
     "execution_count": 31,
     "metadata": {},
     "output_type": "execute_result"
    }
   ],
   "source": [
    "\"\"\"## Participants file\"\"\"\n",
    "\n",
    "#read participant data \n",
    "\n",
    "#If you don't wan't to use a dialog, specify the path directly\n",
    "path_to_system_predictions = Path('Task3a.csv')#filedialog.askopenfile() #file selection dialog\n",
    "print(path_to_system_predictions.name) #check, if the correct file has been selected\n",
    "\n",
    "if path_to_system_predictions.name.endswith(\"tsv\"):\n",
    "    system_predictions = pd.read_csv(path_to_system_predictions.name, encoding=\"utf-8\", sep=\"\\t\") \n",
    "else:\n",
    "    system_predictions = pd.read_csv(path_to_system_predictions.name, encoding=\"utf-8\")\n",
    "\n",
    "#Check, if the number of entries is correct\n",
    "print(len(system_predictions))\n",
    "system_predictions.head()\n",
    "\n"
   ]
  },
  {
   "cell_type": "code",
   "execution_count": 15,
   "metadata": {},
   "outputs": [
    {
     "name": "stdout",
     "output_type": "stream",
     "text": [
      "Dropping duplicates was successful\n",
      "system_predictions has 354 entries\n"
     ]
    }
   ],
   "source": [
    "\"\"\"## Drop duplicates\"\"\"\n",
    "\n",
    "#Only for 3A\n",
    "system_predictions_no_duplicates = system_predictions[~system_predictions[\"public_id\"].isin(duplicates)]\n",
    "if(len(system_predictions) - len(system_predictions_no_duplicates)==10):\n",
    "    print(\"Dropping duplicates was successful\") \n",
    "    system_predictions = system_predictions_no_duplicates.reset_index(drop=True)\n",
    "else:\n",
    "    print(\"Dropping duplicates was NOT successful. Please mark for a later check.\")\n",
    "    print(f\"system_predictions has {len(system_predictions)} entries and system_predictions_no_duplicates has {len(system_predictions_no_duplicates)} entries.\")\n",
    "    \n",
    "print(f\"system_predictions has {len(system_predictions)} entries\")\n"
   ]
  },
  {
   "cell_type": "code",
   "execution_count": 32,
   "metadata": {},
   "outputs": [
    {
     "name": "stdout",
     "output_type": "stream",
     "text": [
      "True    364\n",
      "Name: public_id, dtype: int64\n"
     ]
    },
    {
     "data": {
      "text/markdown": [
       "<SPAN STYLE='COLOR: #FF0000'>EVERYTHING IS FINE, PLEASE PROCEED WITH THE EVALUATION.</SPAN>"
      ],
      "text/plain": [
       "<IPython.core.display.Markdown object>"
      ]
     },
     "metadata": {},
     "output_type": "display_data"
    }
   ],
   "source": [
    "\"\"\"## Check public ids\"\"\"\n",
    "\n",
    "#check, if the id columns are identical\n",
    "#there are some public ids, that are saved differently depending on the editor used to view the file \n",
    "#    test_data    system_predictions (example for public ids that might be problematic)\n",
    "#    public_id    public_id\n",
    "#86   080e0024       8E+025\n",
    "#129  17334e19  1,7334E+023\n",
    "#210  84231e18  8,4231E+022\n",
    "#219  85100e77    8,51E+081\n",
    "#271  04866616      4866616\n",
    "#272  03963580      3963580\n",
    "#363  02695016      2695016\n",
    "#If you can verify that the ids are identical, than you can proceed with the evaluation. If not, please inspect further.\n",
    "print(test_data[\"public_id\"].isin(system_predictions[\"public_id\"]).value_counts())\n",
    "matched = pd.DataFrame(test_data[\"public_id\"].eq(system_predictions[\"public_id\"]))\n",
    "if len(matched[matched[\"public_id\"]==False]) == 0:\n",
    "    display(Markdown(\"<span style='color: #ff0000'>everything is fine, please proceed with the evaluation.</span>\".upper()))\n",
    "else:\n",
    "    try:\n",
    "        print(pd.concat((\n",
    "            test_data[\"public_id\"].loc[\n",
    "                test_data[\"public_id\"].where(test_data[\"public_id\"]==system_predictions[\"public_id\"]).isna()], \n",
    "            system_predictions[\"public_id\"].loc[\n",
    "                system_predictions[\"public_id\"].where(system_predictions[\"public_id\"]==test_data[\"public_id\"]).isna()]), axis =1))\n",
    "    except ValueError as e:\n",
    "        display(Markdown(\"<span style='color: #ff0000'>The number of entries in both files is different. An evaluation is not possible.</span>\".upper())) \n",
    "        merged_dataframe = pd.merge(test_data[\"public_id\"], system_predictions[\"public_id\"], how=\"outer\", indicator=True)\n",
    "        print(\"entries missing in the participants file:\\n\", \n",
    "              merged_dataframe[merged_dataframe[\"_merge\"]==\"left_only\"][\"public_id\"])\n",
    "        print(\"\\nentries missing in the systems file:\\n\", system_predictions[\"public_id\"].loc[\n",
    "        system_predictions[\"public_id\"].isin(merged_dataframe[merged_dataframe[\"_merge\"]==\"right_only\"][\"public_id\"])])\n"
   ]
  },
  {
   "cell_type": "code",
   "execution_count": 33,
   "metadata": {},
   "outputs": [
    {
     "name": "stdout",
     "output_type": "stream",
     "text": [
      "                 precision    recall  f1-score   support\n",
      "\n",
      "          false  0.5294117647 0.7964601770 0.6360424028       113\n",
      "          other  0.4893617021 0.5609756098 0.5227272727        41\n",
      "partially false  0.6597938144 0.4539007092 0.5378151261       141\n",
      "           true  0.3800000000 0.2753623188 0.3193277311        69\n",
      "\n",
      "       accuracy                      0.5384615385       364\n",
      "      macro avg  0.5146418203 0.5216747037 0.5039781332       364\n",
      "   weighted avg  0.5470832061 0.5384615385 0.5251927360       364\n",
      "\n"
     ]
    }
   ],
   "source": [
    "\"\"\"## Evaluation\"\"\"\n",
    "\n",
    "try:\n",
    "    classification_report_results = classification_report(test_data[column_name_test], system_predictions[column_name_system].str.lower().str.strip(), output_dict=True)\n",
    "    eval_results = pd.DataFrame.from_dict(classification_report_results).transpose()\n",
    "    participant_file = re.sub(\".+/(\\d+)/*[\\w_-]*/([\\w_-]+)(\\.(tsv|csv))?\", \"\\\\1_\\\\2\", path_to_system_predictions.name)\n",
    "\n",
    "    eval_results.to_csv(\"classification_report_\" + participant_file + \".csv\")\n",
    "    #pretty print\n",
    "    print(classification_report(test_data[column_name_test], system_predictions[column_name_system].str.lower().str.strip(), digits=10))\n",
    "except KeyError as e:\n",
    "    print(\"The column names of the participant file don't match the required column names ('public_id, 'predicted_rating'):\", \n",
    "          system_predictions.columns)\n",
    "\n",
    "#Destroy the \"invisible\" root window\n",
    "#root.destroy()\n"
   ]
  },
  {
   "cell_type": "code",
   "execution_count": null,
   "metadata": {},
   "outputs": [],
   "source": []
  }
 ],
 "metadata": {
  "kernelspec": {
   "display_name": "Python 3",
   "language": "python",
   "name": "python3"
  },
  "language_info": {
   "codemirror_mode": {
    "name": "ipython",
    "version": 3
   },
   "file_extension": ".py",
   "mimetype": "text/x-python",
   "name": "python",
   "nbconvert_exporter": "python",
   "pygments_lexer": "ipython3",
   "version": "3.7.3"
  }
 },
 "nbformat": 4,
 "nbformat_minor": 4
}
