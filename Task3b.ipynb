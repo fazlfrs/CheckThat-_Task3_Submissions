{
 "cells": [
  {
   "cell_type": "code",
   "execution_count": 23,
   "metadata": {},
   "outputs": [
    {
     "data": {
      "text/html": [
       "<div>\n",
       "<style scoped>\n",
       "    .dataframe tbody tr th:only-of-type {\n",
       "        vertical-align: middle;\n",
       "    }\n",
       "\n",
       "    .dataframe tbody tr th {\n",
       "        vertical-align: top;\n",
       "    }\n",
       "\n",
       "    .dataframe thead th {\n",
       "        text-align: right;\n",
       "    }\n",
       "</style>\n",
       "<table border=\"1\" class=\"dataframe\">\n",
       "  <thead>\n",
       "    <tr style=\"text-align: right;\">\n",
       "      <th></th>\n",
       "      <th>public_id</th>\n",
       "      <th>predicted_domain</th>\n",
       "    </tr>\n",
       "  </thead>\n",
       "  <tbody>\n",
       "    <tr>\n",
       "      <th>0</th>\n",
       "      <td>43b52abb</td>\n",
       "      <td>health</td>\n",
       "    </tr>\n",
       "    <tr>\n",
       "      <th>1</th>\n",
       "      <td>186685b0</td>\n",
       "      <td>health</td>\n",
       "    </tr>\n",
       "    <tr>\n",
       "      <th>2</th>\n",
       "      <td>a19e0df7</td>\n",
       "      <td>health</td>\n",
       "    </tr>\n",
       "    <tr>\n",
       "      <th>3</th>\n",
       "      <td>6012c7ac</td>\n",
       "      <td>health</td>\n",
       "    </tr>\n",
       "    <tr>\n",
       "      <th>4</th>\n",
       "      <td>068d0644</td>\n",
       "      <td>health</td>\n",
       "    </tr>\n",
       "  </tbody>\n",
       "</table>\n",
       "</div>"
      ],
      "text/plain": [
       "  public_id predicted_domain\n",
       "0  43b52abb           health\n",
       "1  186685b0           health\n",
       "2  a19e0df7           health\n",
       "3  6012c7ac           health\n",
       "4  068d0644           health"
      ]
     },
     "execution_count": 23,
     "metadata": {},
     "output_type": "execute_result"
    }
   ],
   "source": [
    "ss=pd.read_csv('task3b.csv')\n",
    "ss.head()"
   ]
  },
  {
   "cell_type": "code",
   "execution_count": 24,
   "metadata": {},
   "outputs": [
    {
     "data": {
      "text/html": [
       "<div>\n",
       "<style scoped>\n",
       "    .dataframe tbody tr th:only-of-type {\n",
       "        vertical-align: middle;\n",
       "    }\n",
       "\n",
       "    .dataframe tbody tr th {\n",
       "        vertical-align: top;\n",
       "    }\n",
       "\n",
       "    .dataframe thead th {\n",
       "        text-align: right;\n",
       "    }\n",
       "</style>\n",
       "<table border=\"1\" class=\"dataframe\">\n",
       "  <thead>\n",
       "    <tr style=\"text-align: right;\">\n",
       "      <th></th>\n",
       "      <th>public_id</th>\n",
       "      <th>text</th>\n",
       "      <th>title</th>\n",
       "      <th>category</th>\n",
       "    </tr>\n",
       "  </thead>\n",
       "  <tbody>\n",
       "    <tr>\n",
       "      <th>0</th>\n",
       "      <td>43b52abb</td>\n",
       "      <td>A recent military study shows military personn...</td>\n",
       "      <td>Flu Vaccine Increases Coronavirus Risk 36% Say...</td>\n",
       "      <td>health</td>\n",
       "    </tr>\n",
       "    <tr>\n",
       "      <th>1</th>\n",
       "      <td>186685b0</td>\n",
       "      <td>Natural News Every virology lab in the world t...</td>\n",
       "      <td>Irrefutable: The coronavirus was engineered by...</td>\n",
       "      <td>health</td>\n",
       "    </tr>\n",
       "    <tr>\n",
       "      <th>2</th>\n",
       "      <td>a19e0df7</td>\n",
       "      <td>Here’s something your doctor, or Oncologist wi...</td>\n",
       "      <td>CANCER IS CANDIDA/FUNGUS AND CAN BE CURED</td>\n",
       "      <td>health</td>\n",
       "    </tr>\n",
       "    <tr>\n",
       "      <th>3</th>\n",
       "      <td>6012c7ac</td>\n",
       "      <td>The Food and Drug Administration FDA declared ...</td>\n",
       "      <td>Teen vaping is an 'epidemic,' FDA declares - b...</td>\n",
       "      <td>health</td>\n",
       "    </tr>\n",
       "    <tr>\n",
       "      <th>4</th>\n",
       "      <td>068d0644</td>\n",
       "      <td>For immediate release:  October 2, 2013  For m...</td>\n",
       "      <td>Why is HealthSource RI concealing Governor Cha...</td>\n",
       "      <td>health</td>\n",
       "    </tr>\n",
       "  </tbody>\n",
       "</table>\n",
       "</div>"
      ],
      "text/plain": [
       "  public_id                                               text  \\\n",
       "0  43b52abb  A recent military study shows military personn...   \n",
       "1  186685b0  Natural News Every virology lab in the world t...   \n",
       "2  a19e0df7  Here’s something your doctor, or Oncologist wi...   \n",
       "3  6012c7ac  The Food and Drug Administration FDA declared ...   \n",
       "4  068d0644  For immediate release:  October 2, 2013  For m...   \n",
       "\n",
       "                                               title category  \n",
       "0  Flu Vaccine Increases Coronavirus Risk 36% Say...   health  \n",
       "1  Irrefutable: The coronavirus was engineered by...   health  \n",
       "2          CANCER IS CANDIDA/FUNGUS AND CAN BE CURED   health  \n",
       "3  Teen vaping is an 'epidemic,' FDA declares - b...   health  \n",
       "4  Why is HealthSource RI concealing Governor Cha...   health  "
      ]
     },
     "execution_count": 24,
     "metadata": {},
     "output_type": "execute_result"
    }
   ],
   "source": [
    "from sklearn.metrics import classification_report\n",
    "true=pd.read_csv('Task3b_testing.csv')\n",
    "true.head()"
   ]
  },
  {
   "cell_type": "code",
   "execution_count": 25,
   "metadata": {},
   "outputs": [
    {
     "name": "stdout",
     "output_type": "stream",
     "text": [
      "              precision    recall  f1-score   support\n",
      "\n",
      "     climate       0.95      0.95      0.95        21\n",
      "       crime       0.73      0.94      0.82        17\n",
      "     economy       0.87      0.68      0.76        19\n",
      "   education       0.90      0.75      0.82        12\n",
      "   elections       0.86      0.86      0.86        14\n",
      "      health       0.91      0.93      0.92        54\n",
      "\n",
      "    accuracy                           0.88       137\n",
      "   macro avg       0.87      0.85      0.86       137\n",
      "weighted avg       0.88      0.88      0.87       137\n",
      "\n"
     ]
    }
   ],
   "source": [
    "print(classification_report(true['category'],ss.predicted_domain))"
   ]
  },
  {
   "cell_type": "code",
   "execution_count": null,
   "metadata": {},
   "outputs": [],
   "source": []
  },
  {
   "cell_type": "code",
   "execution_count": 26,
   "metadata": {},
   "outputs": [
    {
     "name": "stdout",
     "output_type": "stream",
     "text": [
      "Task3b_testing.csv\n"
     ]
    },
    {
     "data": {
      "text/html": [
       "<div>\n",
       "<style scoped>\n",
       "    .dataframe tbody tr th:only-of-type {\n",
       "        vertical-align: middle;\n",
       "    }\n",
       "\n",
       "    .dataframe tbody tr th {\n",
       "        vertical-align: top;\n",
       "    }\n",
       "\n",
       "    .dataframe thead th {\n",
       "        text-align: right;\n",
       "    }\n",
       "</style>\n",
       "<table border=\"1\" class=\"dataframe\">\n",
       "  <thead>\n",
       "    <tr style=\"text-align: right;\">\n",
       "      <th></th>\n",
       "      <th>public_id</th>\n",
       "      <th>text</th>\n",
       "      <th>title</th>\n",
       "      <th>category</th>\n",
       "    </tr>\n",
       "  </thead>\n",
       "  <tbody>\n",
       "    <tr>\n",
       "      <th>0</th>\n",
       "      <td>43b52abb</td>\n",
       "      <td>A recent military study shows military personn...</td>\n",
       "      <td>Flu Vaccine Increases Coronavirus Risk 36% Say...</td>\n",
       "      <td>health</td>\n",
       "    </tr>\n",
       "    <tr>\n",
       "      <th>1</th>\n",
       "      <td>186685b0</td>\n",
       "      <td>Natural News Every virology lab in the world t...</td>\n",
       "      <td>Irrefutable: The coronavirus was engineered by...</td>\n",
       "      <td>health</td>\n",
       "    </tr>\n",
       "    <tr>\n",
       "      <th>2</th>\n",
       "      <td>a19e0df7</td>\n",
       "      <td>Here’s something your doctor, or Oncologist wi...</td>\n",
       "      <td>CANCER IS CANDIDA/FUNGUS AND CAN BE CURED</td>\n",
       "      <td>health</td>\n",
       "    </tr>\n",
       "    <tr>\n",
       "      <th>3</th>\n",
       "      <td>6012c7ac</td>\n",
       "      <td>The Food and Drug Administration FDA declared ...</td>\n",
       "      <td>Teen vaping is an 'epidemic,' FDA declares - b...</td>\n",
       "      <td>health</td>\n",
       "    </tr>\n",
       "    <tr>\n",
       "      <th>4</th>\n",
       "      <td>068d0644</td>\n",
       "      <td>For immediate release:  October 2, 2013  For m...</td>\n",
       "      <td>Why is HealthSource RI concealing Governor Cha...</td>\n",
       "      <td>health</td>\n",
       "    </tr>\n",
       "  </tbody>\n",
       "</table>\n",
       "</div>"
      ],
      "text/plain": [
       "  public_id                                               text  \\\n",
       "0  43b52abb  A recent military study shows military personn...   \n",
       "1  186685b0  Natural News Every virology lab in the world t...   \n",
       "2  a19e0df7  Here’s something your doctor, or Oncologist wi...   \n",
       "3  6012c7ac  The Food and Drug Administration FDA declared ...   \n",
       "4  068d0644  For immediate release:  October 2, 2013  For m...   \n",
       "\n",
       "                                               title category  \n",
       "0  Flu Vaccine Increases Coronavirus Risk 36% Say...   health  \n",
       "1  Irrefutable: The coronavirus was engineered by...   health  \n",
       "2          CANCER IS CANDIDA/FUNGUS AND CAN BE CURED   health  \n",
       "3  Teen vaping is an 'epidemic,' FDA declares - b...   health  \n",
       "4  Why is HealthSource RI concealing Governor Cha...   health  "
      ]
     },
     "execution_count": 26,
     "metadata": {},
     "output_type": "execute_result"
    }
   ],
   "source": [
    "from pathlib import Path\n",
    "import re, os\n",
    "import pandas as pd\n",
    "import numpy as np\n",
    "from sklearn.metrics import classification_report\n",
    "from tkinter import Tk, filedialog\n",
    "from IPython.display import Markdown\n",
    "\n",
    "duplicates = [\"1a46b040\", \"c1e124d5\", \"8209ca7b\", \"e2abfbe6\", \"39f5c37f\",\n",
    "              \"47423bb6\", \"097c142a\", \"08bc59f4\", \"af3393ce\", \"a39d07df\"]\n",
    "\n",
    "\"\"\"## Gold Standard\"\"\"\n",
    "\n",
    "root = Tk()\n",
    "root.withdraw() #dont show base window\n",
    "path_to_test_data = Path('Task3b_testing.csv')#filedialog.askopenfile() #file selection dialog\n",
    "print(path_to_test_data.name) #check, that the correct file has been selected\n",
    "\n",
    "#depending on whether task a or task b testing data has been loaded\n",
    "column_name_test = \"our rating\" if \"3a\" in path_to_test_data.name else \"category\"\n",
    "column_name_system = \"predicted_rating\" if \"3a\" in path_to_test_data.name else \"predicted_domain\"\n",
    "\n",
    "#read gold standard\n",
    "#If you don't wan't to use a dialog, specify the path directly\n",
    "test_data = pd.read_csv(path_to_test_data.name, encoding=\"UTF-8\")\n",
    "test_data.head() #quick check, if the data has been correctly read.\n"
   ]
  },
  {
   "cell_type": "code",
   "execution_count": 27,
   "metadata": {},
   "outputs": [
    {
     "name": "stdout",
     "output_type": "stream",
     "text": [
      "Task3b.csv\n",
      "137\n"
     ]
    },
    {
     "data": {
      "text/html": [
       "<div>\n",
       "<style scoped>\n",
       "    .dataframe tbody tr th:only-of-type {\n",
       "        vertical-align: middle;\n",
       "    }\n",
       "\n",
       "    .dataframe tbody tr th {\n",
       "        vertical-align: top;\n",
       "    }\n",
       "\n",
       "    .dataframe thead th {\n",
       "        text-align: right;\n",
       "    }\n",
       "</style>\n",
       "<table border=\"1\" class=\"dataframe\">\n",
       "  <thead>\n",
       "    <tr style=\"text-align: right;\">\n",
       "      <th></th>\n",
       "      <th>public_id</th>\n",
       "      <th>predicted_domain</th>\n",
       "    </tr>\n",
       "  </thead>\n",
       "  <tbody>\n",
       "    <tr>\n",
       "      <th>0</th>\n",
       "      <td>43b52abb</td>\n",
       "      <td>health</td>\n",
       "    </tr>\n",
       "    <tr>\n",
       "      <th>1</th>\n",
       "      <td>186685b0</td>\n",
       "      <td>health</td>\n",
       "    </tr>\n",
       "    <tr>\n",
       "      <th>2</th>\n",
       "      <td>a19e0df7</td>\n",
       "      <td>health</td>\n",
       "    </tr>\n",
       "    <tr>\n",
       "      <th>3</th>\n",
       "      <td>6012c7ac</td>\n",
       "      <td>health</td>\n",
       "    </tr>\n",
       "    <tr>\n",
       "      <th>4</th>\n",
       "      <td>068d0644</td>\n",
       "      <td>health</td>\n",
       "    </tr>\n",
       "  </tbody>\n",
       "</table>\n",
       "</div>"
      ],
      "text/plain": [
       "  public_id predicted_domain\n",
       "0  43b52abb           health\n",
       "1  186685b0           health\n",
       "2  a19e0df7           health\n",
       "3  6012c7ac           health\n",
       "4  068d0644           health"
      ]
     },
     "execution_count": 27,
     "metadata": {},
     "output_type": "execute_result"
    }
   ],
   "source": [
    "\"\"\"## Participants file\"\"\"\n",
    "\n",
    "#read participant data \n",
    "\n",
    "#If you don't wan't to use a dialog, specify the path directly\n",
    "path_to_system_predictions = Path('Task3b.csv')#filedialog.askopenfile() #file selection dialog\n",
    "print(path_to_system_predictions.name) #check, if the correct file has been selected\n",
    "\n",
    "if path_to_system_predictions.name.endswith(\"tsv\"):\n",
    "    system_predictions = pd.read_csv(path_to_system_predictions.name, encoding=\"utf-8\", sep=\"\\t\") \n",
    "else:\n",
    "    system_predictions = pd.read_csv(path_to_system_predictions.name, encoding=\"utf-8\")\n",
    "\n",
    "#Check, if the number of entries is correct\n",
    "print(len(system_predictions))\n",
    "system_predictions.head()\n",
    "\n"
   ]
  },
  {
   "cell_type": "code",
   "execution_count": 28,
   "metadata": {},
   "outputs": [
    {
     "name": "stdout",
     "output_type": "stream",
     "text": [
      "True    137\n",
      "Name: public_id, dtype: int64\n"
     ]
    },
    {
     "data": {
      "text/markdown": [
       "<SPAN STYLE='COLOR: #FF0000'>EVERYTHING IS FINE, PLEASE PROCEED WITH THE EVALUATION.</SPAN>"
      ],
      "text/plain": [
       "<IPython.core.display.Markdown object>"
      ]
     },
     "metadata": {},
     "output_type": "display_data"
    }
   ],
   "source": [
    "\"\"\"## Check public ids\"\"\"\n",
    "\n",
    "#check, if the id columns are identical\n",
    "#there are some public ids, that are saved differently depending on the editor used to view the file \n",
    "#    test_data    system_predictions (example for public ids that might be problematic)\n",
    "#    public_id    public_id\n",
    "#86   080e0024       8E+025\n",
    "#129  17334e19  1,7334E+023\n",
    "#210  84231e18  8,4231E+022\n",
    "#219  85100e77    8,51E+081\n",
    "#271  04866616      4866616\n",
    "#272  03963580      3963580\n",
    "#363  02695016      2695016\n",
    "#If you can verify that the ids are identical, than you can proceed with the evaluation. If not, please inspect further.\n",
    "print(test_data[\"public_id\"].isin(system_predictions[\"public_id\"]).value_counts())\n",
    "matched = pd.DataFrame(test_data[\"public_id\"].eq(system_predictions[\"public_id\"]))\n",
    "if len(matched[matched[\"public_id\"]==False]) == 0:\n",
    "    display(Markdown(\"<span style='color: #ff0000'>everything is fine, please proceed with the evaluation.</span>\".upper()))\n",
    "else:\n",
    "    try:\n",
    "        print(pd.concat((\n",
    "            test_data[\"public_id\"].loc[\n",
    "                test_data[\"public_id\"].where(test_data[\"public_id\"]==system_predictions[\"public_id\"]).isna()], \n",
    "            system_predictions[\"public_id\"].loc[\n",
    "                system_predictions[\"public_id\"].where(system_predictions[\"public_id\"]==test_data[\"public_id\"]).isna()]), axis =1))\n",
    "    except ValueError as e:\n",
    "        display(Markdown(\"<span style='color: #ff0000'>The number of entries in both files is different. An evaluation is not possible.</span>\".upper())) \n",
    "        merged_dataframe = pd.merge(test_data[\"public_id\"], system_predictions[\"public_id\"], how=\"outer\", indicator=True)\n",
    "        print(\"entries missing in the participants file:\\n\", \n",
    "              merged_dataframe[merged_dataframe[\"_merge\"]==\"left_only\"][\"public_id\"])\n",
    "        print(\"\\nentries missing in the systems file:\\n\", system_predictions[\"public_id\"].loc[\n",
    "        system_predictions[\"public_id\"].isin(merged_dataframe[merged_dataframe[\"_merge\"]==\"right_only\"][\"public_id\"])])\n"
   ]
  },
  {
   "cell_type": "code",
   "execution_count": 29,
   "metadata": {},
   "outputs": [
    {
     "name": "stdout",
     "output_type": "stream",
     "text": [
      "              precision    recall  f1-score   support\n",
      "\n",
      "     climate  0.9523809524 0.9523809524 0.9523809524        21\n",
      "       crime  0.7272727273 0.9411764706 0.8205128205        17\n",
      "     economy  0.8666666667 0.6842105263 0.7647058824        19\n",
      "   education  0.9000000000 0.7500000000 0.8181818182        12\n",
      "   elections  0.8571428571 0.8571428571 0.8571428571        14\n",
      "      health  0.9090909091 0.9259259259 0.9174311927        54\n",
      "\n",
      "    accuracy                      0.8759124088       137\n",
      "   macro avg  0.8687590188 0.8518061221 0.8550592539       137\n",
      "weighted avg  0.8811767308 0.8759124088 0.8747269776       137\n",
      "\n"
     ]
    }
   ],
   "source": [
    "\"\"\"## Evaluation\"\"\"\n",
    "\n",
    "try:\n",
    "    classification_report_results = classification_report(test_data[column_name_test], system_predictions[column_name_system].str.lower().str.strip(), output_dict=True)\n",
    "    eval_results = pd.DataFrame.from_dict(classification_report_results).transpose()\n",
    "    participant_file = re.sub(\".+/(\\d+)/*[\\w_-]*/([\\w_-]+)(\\.(tsv|csv))?\", \"\\\\1_\\\\2\", path_to_system_predictions.name)\n",
    "\n",
    "    eval_results.to_csv(\"classification_report_\" + participant_file + \".csv\")\n",
    "    #pretty print\n",
    "    print(classification_report(test_data[column_name_test], system_predictions[column_name_system].str.lower().str.strip(), digits=10))\n",
    "except KeyError as e:\n",
    "    print(\"The column names of the participant file don't match the required column names ('public_id, 'predicted_rating'):\", \n",
    "          system_predictions.columns)\n",
    "\n",
    "#Destroy the \"invisible\" root window\n",
    "root.destroy()\n"
   ]
  },
  {
   "cell_type": "code",
   "execution_count": null,
   "metadata": {},
   "outputs": [],
   "source": []
  }
 ],
 "metadata": {
  "kernelspec": {
   "display_name": "Python 3",
   "language": "python",
   "name": "python3"
  },
  "language_info": {
   "codemirror_mode": {
    "name": "ipython",
    "version": 3
   },
   "file_extension": ".py",
   "mimetype": "text/x-python",
   "name": "python",
   "nbconvert_exporter": "python",
   "pygments_lexer": "ipython3",
   "version": "3.7.3"
  }
 },
 "nbformat": 4,
 "nbformat_minor": 4
}
